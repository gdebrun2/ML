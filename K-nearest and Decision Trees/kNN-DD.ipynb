{
 "cells": [
  {
   "cell_type": "markdown",
   "metadata": {
    "id": "DBylVmgIY_22"
   },
   "source": [
    "# Overview\n",
    "\n",
    "In this lab, you will learn how to\n",
    "1. Use **KNeighborsClassifier** method in **scikit-learn (sklearn)** library, and understand the structure of classes in scitkit-learn.\n",
    "2. Implement **kNN** algorithm from scratch, and practice referring to **API documentations** to write codes.\n",
    "3. Implement **Bagging** algorithm from scratch.\n"
   ]
  },
  {
   "cell_type": "markdown",
   "metadata": {
    "id": "bOgbAXC-MAx_"
   },
   "source": [
    "Let's get started."
   ]
  },
  {
   "cell_type": "code",
   "execution_count": 1,
   "metadata": {
    "id": "ZmS2XZHAon5S"
   },
   "outputs": [],
   "source": [
    "import numpy as np\n",
    "import matplotlib.pyplot as plt"
   ]
  },
  {
   "cell_type": "markdown",
   "metadata": {
    "id": "PZGen6lRL6Zq"
   },
   "source": [
    "# Task 1: K-Nearest Neighbors from sklearn\n",
    "[scikit-learn](https://scikit-learn.org/stable/index.html), also known as sklearn, is a free machine learning library for the Python programming language. Using sklearn, you can find various classical and popular machine learning methods such as regression, classification, clustering and so on. \n"
   ]
  },
  {
   "cell_type": "markdown",
   "metadata": {
    "id": "VVmvL5yxJ6t_"
   },
   "source": [
    "\n",
    "##### First, let's use the **KNeighborsClassifier** method in sklearn to implement k-nearest neighbors algorithm. \n",
    "\n",
    "Let's look at a simple case first. For example, we have the following training dataset. And we want to predict the class label of a future unseen data point."
   ]
  },
  {
   "cell_type": "code",
   "execution_count": 2,
   "metadata": {
    "colab": {
     "base_uri": "https://localhost:8080/",
     "height": 283
    },
    "id": "Pdafytw3VbLo",
    "outputId": "34f83fd7-fb8b-4109-fb7f-b00e13ac51ca"
   },
   "outputs": [
    {
     "data": {
      "text/plain": [
       "<matplotlib.collections.PathCollection at 0x7fe06805e490>"
      ]
     },
     "execution_count": 2,
     "metadata": {},
     "output_type": "execute_result"
    },
    {
     "data": {
      "image/png": "[encoded data removed]",
      "text/plain": [
       "<Figure size 432x288 with 1 Axes>"
      ]
     },
     "metadata": {
      "needs_background": "light"
     },
     "output_type": "display_data"
    }
   ],
   "source": [
    "X_train = np.array([[-0.5,  1.5],\n",
    "                    [-1.5,  1],\n",
    "                    [ 1,  1],\n",
    "                    [0.5, 0.5],\n",
    "                    [ 0,  1],\n",
    "                    [-1,  2],\n",
    "                    [-1.5, 2]])\n",
    "y_train = np.array([1, 1, -1, -1, -1, 1, -1])\n",
    "\n",
    "# Visualize on 2d plane\n",
    "plt.scatter(X_train[[0, 1, -2], 0], X_train[[0, 1, -2], 1], c='r') # y=1\n",
    "plt.scatter(X_train[[2, 3, 4, -1], 0], X_train[[2, 3, 4, -1], 1], c='b') #y=-1"
   ]
  },
  {
   "cell_type": "markdown",
   "metadata": {
    "id": "gp8p0xSxMnc4"
   },
   "source": [
    "Here is your task. Please refer to the [kNN documentation](https://scikit-learn.org/stable/modules/generated/sklearn.neighbors.KNeighborsClassifier.html) to figure out how to \"train\" the model using \n",
    "`X_train` and `y_train`, and make predictions on `X_test`.\n",
    "\n",
    "**Remark: It's very common to feel lost when reading the documentation page. But you could directly refer to the \"Example\" section, where you will find out that it may not be that hard.**"
   ]
  },
  {
   "cell_type": "code",
   "execution_count": 3,
   "metadata": {
    "id": "LkAxRs9ZQSWa"
   },
   "outputs": [],
   "source": [
    "#grade\n",
    "\n",
    "from sklearn.neighbors import KNeighborsClassifier\n",
    "\n",
    "def knn(X_train, y_train, X_test, k=3):\n",
    "    ### START YOUR CODE ###\n",
    "    neighbors = KNeighborsClassifier(n_neighbors=k)\n",
    "    neighbors.fit(X_train, y_train)\n",
    "    preds = neighbors.predict(X_test)\n",
    "\n",
    "    ### END YOUR CODE ###\n",
    "    return preds"
   ]
  },
  {
   "cell_type": "code",
   "execution_count": 4,
   "metadata": {
    "id": "3l6NfjPtPj1y"
   },
   "outputs": [],
   "source": [
    "# Sample Test Case\n",
    "X_test = np.array([[-1.5, 1.8]])\n",
    "y_test = np.array([1])\n",
    "assert np.array_equal(y_test, np.array(knn(X_train, y_train, X_test, k=3)))"
   ]
  },
  {
   "cell_type": "code",
   "execution_count": 6,
   "metadata": {
    "colab": {
     "base_uri": "https://localhost:8080/",
     "height": 283
    },
    "id": "UGTsjLuGbjDN",
    "outputId": "b555f2f9-d779-48f2-de75-7216c2a3ea6b"
   },
   "outputs": [
    {
     "data": {
      "text/plain": [
       "<matplotlib.collections.PathCollection at 0x7fe0480df6d0>"
      ]
     },
     "execution_count": 6,
     "metadata": {},
     "output_type": "execute_result"
    },
    {
     "data": {
      "image/png": "[encoded data removed]",
      "text/plain": [
       "<Figure size 432x288 with 1 Axes>"
      ]
     },
     "metadata": {
      "needs_background": "light"
     },
     "output_type": "display_data"
    }
   ],
   "source": [
    "# Visualization for X_test\n",
    "plt.scatter(X_train[[0, 1, -2], 0], X_train[[0, 1, -2], 1], c='r') # y=1\n",
    "plt.scatter(X_train[[2, 3, 4, -1], 0], X_train[[2, 3, 4, -1], 1], c='b') #y=-1\n",
    "plt.scatter(X_test[[0], 0], X_test[[0], 1], c='r', s=300) # y=1"
   ]
  },
  {
   "cell_type": "markdown",
   "metadata": {
    "id": "yuYd-Nf6b3n-"
   },
   "source": [
    "The large point and its color shows our prediction result for this new data point. Because it seems to be in the red cluster, if we set up a reasonable value for k, then its class should be 1 (red color). "
   ]
  },
  {
   "cell_type": "markdown",
   "metadata": {
    "id": "Kh_bmaF1fWAj"
   },
   "source": [
    "# Task 2: K-Nearest Neighbors from scratch\n",
    "*You are welcome to simply use machine learning methods from sklearn to apply on real-world data. However, fully understanding the algorithms is very important. Every algorithm may be used in different scenarios and has lots of hyperparameters. A good understanding of the algorithms, helps finetune the parameters when working with real-world data.*"
   ]
  },
  {
   "cell_type": "markdown",
   "metadata": {
    "id": "1JKbIUfkqOqV"
   },
   "source": [
    "In this section, you'll build a K-Nearest Neigbors classifier **from scratch**, and train it to make predictions on a dataset. \n",
    "\n",
    "<!-- An empty KNN class is given to you. You need to implement several functions to build your kNN classifier.  -->"
   ]
  },
  {
   "cell_type": "markdown",
   "metadata": {
    "id": "xf42Rw5qgB-F"
   },
   "source": [
    "<!-- ## Complete the `euclidean()` method (Delete later) -->\n",
    "### `euclidean()` method\n",
    "Recall that in kNN classifier, given a new data point, we need to calculate the [euclidean distance](https://en.wikipedia.org/wiki/Euclidean_distance) between itself and all the other existing data points. \n",
    "\n",
    "This method is given to you, but you are welcome to look into details how this function is implemented. You will use this function later.\n",
    "\n",
    "<!-- The inputs for this function should be 2 vectors of shape `(d,1)`. Your job is to return the euclidean distance between these two inputs. -->\n",
    "\n",
    "<!-- ***hint**:   -->\n",
    "refer to: [`np.sum`](https://numpy.org/doc/stable/reference/generated/numpy.sum.html), [`np.square`](https://numpy.org/doc/stable/reference/generated/numpy.square.html), [`np.sqrt`](https://numpy.org/doc/stable/reference/generated/numpy.sqrt.html)"
   ]
  },
  {
   "cell_type": "code",
   "execution_count": 7,
   "metadata": {
    "id": "IN5lH7L_hfn4"
   },
   "outputs": [],
   "source": [
    "def euclidean(v1, v2):\n",
    "    return np.sqrt(np.sum(np.square(v1 - v2)))"
   ]
  },
  {
   "cell_type": "markdown",
   "metadata": {
    "id": "60ZSGbQIeYP5"
   },
   "source": [
    "## Helper functions\n",
    "\n",
    "Next, you will write three helper functions to make things easier when completing the `knn_predict()` method. "
   ]
  },
  {
   "cell_type": "markdown",
   "metadata": {
    "id": "wXngJeslJfeE"
   },
   "source": [
    "### **(1)** In the cell below, complete the `get_distances()` function. This function should:\n",
    "\n",
    "* Take in two arguments: `X_train` and `x`\n",
    "* Create an empty array, `distances`, to hold all the distances you're going to calculate\n",
    "* Enumerate through every item in `X_train`. For each item: \n",
    "    * Use the `euclidean()` function to get the distance between x and the current point from `X_train` \n",
    "    * `append` each distance it to the `distances` array. `append` is a method for adding elements at the end of an array. If you are not familiar with it, you can refer to: [`append`](https://www.w3schools.com/python/ref_list_append.asp)\n",
    "* Return the `distances` array when a distance has been generated for all items in `X_train` "
   ]
  },
  {
   "cell_type": "code",
   "execution_count": 8,
   "metadata": {
    "id": "VottSkO6malc"
   },
   "outputs": [],
   "source": [
    "#grade\n",
    "\n",
    "def get_distances(X_train, x):\n",
    "    distances = []\n",
    "    \n",
    "    for i in range(X_train.shape[0]):\n",
    "        ### START YOUR CODE ###\n",
    "        distances.append(euclidean(X_train[i], x))\n",
    "\n",
    "        ### END YOUR CODE ###\n",
    "    return distances"
   ]
  },
  {
   "cell_type": "code",
   "execution_count": 9,
   "metadata": {
    "id": "aLlfbLeOmkq3"
   },
   "outputs": [],
   "source": [
    "# Sample Test Case\n",
    "X_train = np.array([[-0.5,1.5],[-1.5, 1],[1, 1],\n",
    "                    [0.5, 0.5],[ 0, 1],[-1,2],[-1.5, 2]])\n",
    "x = np.array([[-1.5, 1.8]])\n",
    "ans = np.array([1.04, 0.8, 2.62, 2.39, 1.7, 0.54, 0.20])\n",
    "assert np.array_equal(np.round(abs(ans - get_distances(X_train, x))), np.zeros([7]))"
   ]
  },
  {
   "cell_type": "markdown",
   "metadata": {
    "id": "AhHx73R7JoAr"
   },
   "source": [
    "### **(2)** Well done! You will now create a `get_k_nearest()` function to retrieve indices of the k-nearest points. This function should:\n",
    "\n",
    "* Take two arguments:\n",
    "    * `dists`: an array of distances, which will be output from the `get_distances()` method. \n",
    "    * `k`: the number of nearest neighbors you want to return\n",
    "* Sort the `dists` array by distances values, and return the indices of the first `k` data points from the sorted array. This can be done using a single function in numpy: [`np.argpartition`](https://numpy.org/doc/stable/reference/generated/numpy.argpartition.html)\n",
    "\n",
    "<!-- **_Hint:_** To easily sort on the second item in the tuples contained within the `dists` array, use the [`sorted()`](https://www.w3schools.com/python/ref_func_sorted.asp) function and pass in lambda for the `key=` parameter. To sort on the second element of each tuple, you can just use `key=lambda x: x[1]`. -->"
   ]
  },
  {
   "cell_type": "code",
   "execution_count": 19,
   "metadata": {
    "id": "FhHW9jTFJMe7"
   },
   "outputs": [],
   "source": [
    "#grade\n",
    "\n",
    "def get_k_nearest(dists, k):\n",
    "    \n",
    "    ### START YOUR CODE ###\n",
    "    return np.argpartition(dists, k)[:k]#np.sort(dists)[:k]\n",
    "    \n",
    "\n",
    "    ### END YOUR CODE ###"
   ]
  },
  {
   "cell_type": "code",
   "execution_count": 20,
   "metadata": {
    "id": "CMykPlWYLxb8"
   },
   "outputs": [
    {
     "name": "stdout",
     "output_type": "stream",
     "text": [
      "[3 5 1]\n"
     ]
    }
   ],
   "source": [
    "# Sample Test Case\n",
    "t_dists = np.array([3.7, 2.9, 10.4, 0.1, 5.2, 3.1])\n",
    "ans = np.array([3, 1, 5])\n",
    "kn = get_k_nearest(t_dists, k=3)\n",
    "print(kn)\n",
    "assert np.array_equal(sorted(ans), sorted(kn))"
   ]
  },
  {
   "cell_type": "markdown",
   "metadata": {
    "id": "FOJ6f7cieYP7"
   },
   "source": [
    "### **(3)** The final helper function you'll create will get the labels that correspond to each of the k-nearest point, and return the class that occurs the most. \n",
    "\n",
    "Complete the `get_label_prediction()` function in the cell below. This function should:\n",
    "\n",
    "* Create a list containing the labels from `y_train` for each index in `k_nearest` (remember, each item in `k_nearest` is an index)\n",
    "* Get the total counts for each label (use [`np.bincount()`](https://numpy.org/doc/stable/reference/generated/numpy.bincount.html) and pass in the label array created in the previous step)\n",
    "* Get the index of the label with the highest overall count in counts (use [`np.argmax()`](https://numpy.org/doc/stable/reference/generated/numpy.argmax.html) for this, and pass in the counts created in the previous step) "
   ]
  },
  {
   "cell_type": "code",
   "execution_count": 52,
   "metadata": {
    "id": "Oa6Z3bTrP0yt"
   },
   "outputs": [],
   "source": [
    "#grade\n",
    "\n",
    "def get_label_prediction(y_train, k_nearest_indices):\n",
    "    \n",
    "    ### START YOUR CODE ###\n",
    "    labels = y_train[k_nearest_indices]\n",
    "    counts = np.bincount(labels)\n",
    "    label = np.argmax(counts)\n",
    "    \n",
    "    return label\n",
    "\n",
    "    ### END YOUR CODE ###"
   ]
  },
  {
   "cell_type": "code",
   "execution_count": 53,
   "metadata": {
    "id": "quGSYmjCTRzj"
   },
   "outputs": [],
   "source": [
    "# Sample Test Case\n",
    "y_train = np.array([1, 1, 0, 0, 0, 0, 3, 3, 3, 0])\n",
    "kn = [3, 6, 5]\n",
    "ans = 0\n",
    "get_label_prediction(y_train, kn)\n",
    "assert get_label_prediction(y_train, kn) == ans"
   ]
  },
  {
   "cell_type": "markdown",
   "metadata": {
    "id": "MKmb6ZiBeYP8"
   },
   "source": [
    "Great! Now, you now have all the ingredients needed to complete the `predict()` method.\n",
    "\n",
    "## Complete the `predict()` method\n",
    "\n",
    "Here's an outline of how this method should work:\n",
    "\n",
    "* Our `predict` function should take in four arguments:\n",
    "    * `X_train`: the training data\n",
    "    * `y_train`: the training labels\n",
    "    * `X_test`: the points we want to classify\n",
    "    * `k`: which specifies the number of neighbors we should use to make the classification.\n",
    "* Your method will need to iterate through every item in `X_test`. For each item:\n",
    "    * Calculate the distance to all points in `X_train` by using the `get_distances()` helper method \n",
    "    * Find the k-nearest points in `X_train` by using the `get_k_nearest()` method \n",
    "    * Use the index values contained within the tuples returned by `get_k_nearest()` method to get the corresponding labels for each of the nearest points  \n",
    "    * Determine which class is most represented in these labels and treat that as the prediction for this point. Append the prediction to `preds` \n",
    "* Once a prediction has been generated for every item in `X_test`, return `preds`\n",
    "\n",
    "Follow these instructions to complete the `predict()` method in the cell below: "
   ]
  },
  {
   "cell_type": "code",
   "execution_count": 54,
   "metadata": {
    "id": "3djeaNhBY-Hb"
   },
   "outputs": [],
   "source": [
    "#grade\n",
    "\n",
    "def knn_predict(X_train, y_train, X_test, k=3):\n",
    "    preds = []\n",
    "    for x in X_test:\n",
    "        # Think about how to use all the helper functions we defined before\n",
    "        ### START YOUR CODE ###\n",
    "        \n",
    "        dists = get_distances(X_train, x)\n",
    "        knearest = get_k_nearest(dists,k)\n",
    "        pred = get_label_prediction(y_train, knearest)\n",
    "        preds.append(pred)\n",
    "        \n",
    "        \n",
    "        ### END YOUR CODE ###\n",
    "    return preds"
   ]
  },
  {
   "cell_type": "markdown",
   "metadata": {
    "id": "dSIJUrOgeYP9"
   },
   "source": [
    "Great! Now, try out your new KNN classifier on a sample dataset to see how well it works!\n",
    "\n",
    "## Test the KNN classifier"
   ]
  },
  {
   "cell_type": "markdown",
   "metadata": {
    "id": "Fpo19tAfbZFe"
   },
   "source": [
    "\n",
    "### [Iris flower dataset](https://en.wikipedia.org/wiki/Iris_flower_data_set) \n",
    "consists of 50 samples from each of three species of Iris (**Iris setosa, Iris virginica and Iris versicolor**). Four features were measured from each sample: **the length and the width of the sepals and petals**, in centimeters. Based on the combination of these four features, we could try a lot of classification methods to distinguish the species from each other.\n",
    "<!-- \n",
    "Note that there are **_3 classes_** in the Iris dataset, making this a multi-categorical classification problem. This means that you can't use evaluation metrics that are meant for binary classification problems. For this, just stick to accuracy for now.  -->"
   ]
  },
  {
   "cell_type": "markdown",
   "metadata": {
    "id": "izaH7EvneiXf"
   },
   "source": [
    "#### First, we use [`load_iris`](https://scikit-learn.org/stable/modules/generated/sklearn.datasets.load_iris.html) to load the dataset from `sklearn.datasets`."
   ]
  },
  {
   "cell_type": "code",
   "execution_count": 55,
   "metadata": {
    "id": "4vDoz23IXurL"
   },
   "outputs": [],
   "source": [
    "from sklearn.datasets import load_iris\n",
    "\n",
    "iris = load_iris()\n",
    "data = iris['data']\n",
    "target = iris['target']"
   ]
  },
  {
   "cell_type": "markdown",
   "metadata": {
    "id": "GCBCydSiMR3l"
   },
   "source": [
    "Next, we use [`train_test_split`](https://scikit-learn.org/stable/modules/generated/sklearn.model_selection.train_test_split.html) in `sklearn.model_selection` to create train and test splits for the dataset."
   ]
  },
  {
   "cell_type": "code",
   "execution_count": 56,
   "metadata": {
    "id": "RccWl54aMQpX"
   },
   "outputs": [],
   "source": [
    "from sklearn.model_selection import train_test_split\n",
    "X_train, X_test, y_train, y_test = train_test_split(data, target, test_size=0.25, random_state=42)"
   ]
  },
  {
   "cell_type": "markdown",
   "metadata": {
    "id": "bEvtNnDmSLYm"
   },
   "source": [
    "Let's have a look at what are really in `X_train` and `y_train`."
   ]
  },
  {
   "cell_type": "code",
   "execution_count": 57,
   "metadata": {
    "id": "ywgGyV5dSTmo"
   },
   "outputs": [
    {
     "data": {
      "text/plain": [
       "(array([[5. , 3.6, 1.4, 0.2],\n",
       "        [5.2, 4.1, 1.5, 0.1],\n",
       "        [5.8, 2.7, 5.1, 1.9],\n",
       "        [6. , 3.4, 4.5, 1.6],\n",
       "        [6.7, 3.1, 4.7, 1.5],\n",
       "        [5.4, 3.9, 1.3, 0.4],\n",
       "        [5.4, 3.7, 1.5, 0.2],\n",
       "        [5.5, 2.4, 3.7, 1. ],\n",
       "        [6.3, 2.8, 5.1, 1.5],\n",
       "        [6.4, 3.1, 5.5, 1.8],\n",
       "        [6.6, 3. , 4.4, 1.4],\n",
       "        [7.2, 3.6, 6.1, 2.5],\n",
       "        [5.7, 2.9, 4.2, 1.3],\n",
       "        [7.6, 3. , 6.6, 2.1],\n",
       "        [5.6, 3. , 4.5, 1.5],\n",
       "        [5.1, 3.5, 1.4, 0.2],\n",
       "        [7.7, 2.8, 6.7, 2. ],\n",
       "        [5.8, 2.7, 4.1, 1. ],\n",
       "        [5.2, 3.4, 1.4, 0.2],\n",
       "        [5. , 3.5, 1.3, 0.3],\n",
       "        [5.1, 3.8, 1.9, 0.4],\n",
       "        [5. , 2. , 3.5, 1. ],\n",
       "        [6.3, 2.7, 4.9, 1.8],\n",
       "        [4.8, 3.4, 1.9, 0.2],\n",
       "        [5. , 3. , 1.6, 0.2],\n",
       "        [5.1, 3.3, 1.7, 0.5],\n",
       "        [5.6, 2.7, 4.2, 1.3],\n",
       "        [5.1, 3.4, 1.5, 0.2],\n",
       "        [5.7, 3. , 4.2, 1.2],\n",
       "        [7.7, 3.8, 6.7, 2.2],\n",
       "        [4.6, 3.2, 1.4, 0.2],\n",
       "        [6.2, 2.9, 4.3, 1.3],\n",
       "        [5.7, 2.5, 5. , 2. ],\n",
       "        [5.5, 4.2, 1.4, 0.2],\n",
       "        [6. , 3. , 4.8, 1.8],\n",
       "        [5.8, 2.7, 5.1, 1.9],\n",
       "        [6. , 2.2, 4. , 1. ],\n",
       "        [5.4, 3. , 4.5, 1.5],\n",
       "        [6.2, 3.4, 5.4, 2.3],\n",
       "        [5.5, 2.3, 4. , 1.3],\n",
       "        [5.4, 3.9, 1.7, 0.4],\n",
       "        [5. , 2.3, 3.3, 1. ],\n",
       "        [6.4, 2.7, 5.3, 1.9],\n",
       "        [5. , 3.3, 1.4, 0.2],\n",
       "        [5. , 3.2, 1.2, 0.2],\n",
       "        [5.5, 2.4, 3.8, 1.1],\n",
       "        [6.7, 3. , 5. , 1.7],\n",
       "        [4.9, 3.1, 1.5, 0.2],\n",
       "        [5.8, 2.8, 5.1, 2.4],\n",
       "        [5. , 3.4, 1.5, 0.2],\n",
       "        [5. , 3.5, 1.6, 0.6],\n",
       "        [5.9, 3.2, 4.8, 1.8],\n",
       "        [5.1, 2.5, 3. , 1.1],\n",
       "        [6.9, 3.2, 5.7, 2.3],\n",
       "        [6. , 2.7, 5.1, 1.6],\n",
       "        [6.1, 2.6, 5.6, 1.4],\n",
       "        [7.7, 3. , 6.1, 2.3],\n",
       "        [5.5, 2.5, 4. , 1.3],\n",
       "        [4.4, 2.9, 1.4, 0.2],\n",
       "        [4.3, 3. , 1.1, 0.1],\n",
       "        [6. , 2.2, 5. , 1.5],\n",
       "        [7.2, 3.2, 6. , 1.8],\n",
       "        [4.6, 3.1, 1.5, 0.2],\n",
       "        [5.1, 3.5, 1.4, 0.3],\n",
       "        [4.4, 3. , 1.3, 0.2],\n",
       "        [6.3, 2.5, 4.9, 1.5],\n",
       "        [6.3, 3.4, 5.6, 2.4],\n",
       "        [4.6, 3.4, 1.4, 0.3],\n",
       "        [6.8, 3. , 5.5, 2.1],\n",
       "        [6.3, 3.3, 6. , 2.5],\n",
       "        [4.7, 3.2, 1.3, 0.2],\n",
       "        [6.1, 2.9, 4.7, 1.4],\n",
       "        [6.5, 2.8, 4.6, 1.5],\n",
       "        [6.2, 2.8, 4.8, 1.8],\n",
       "        [7. , 3.2, 4.7, 1.4],\n",
       "        [6.4, 3.2, 5.3, 2.3],\n",
       "        [5.1, 3.8, 1.6, 0.2],\n",
       "        [6.9, 3.1, 5.4, 2.1],\n",
       "        [5.9, 3. , 4.2, 1.5],\n",
       "        [6.5, 3. , 5.2, 2. ],\n",
       "        [5.7, 2.6, 3.5, 1. ],\n",
       "        [5.2, 2.7, 3.9, 1.4],\n",
       "        [6.1, 3. , 4.6, 1.4],\n",
       "        [4.5, 2.3, 1.3, 0.3],\n",
       "        [6.6, 2.9, 4.6, 1.3],\n",
       "        [5.5, 2.6, 4.4, 1.2],\n",
       "        [5.3, 3.7, 1.5, 0.2],\n",
       "        [5.6, 3. , 4.1, 1.3],\n",
       "        [7.3, 2.9, 6.3, 1.8],\n",
       "        [6.7, 3.3, 5.7, 2.1],\n",
       "        [5.1, 3.7, 1.5, 0.4],\n",
       "        [4.9, 2.4, 3.3, 1. ],\n",
       "        [6.7, 3.3, 5.7, 2.5],\n",
       "        [7.2, 3. , 5.8, 1.6],\n",
       "        [4.9, 3.6, 1.4, 0.1],\n",
       "        [6.7, 3.1, 5.6, 2.4],\n",
       "        [4.9, 3. , 1.4, 0.2],\n",
       "        [6.9, 3.1, 4.9, 1.5],\n",
       "        [7.4, 2.8, 6.1, 1.9],\n",
       "        [6.3, 2.9, 5.6, 1.8],\n",
       "        [5.7, 2.8, 4.1, 1.3],\n",
       "        [6.5, 3. , 5.5, 1.8],\n",
       "        [6.3, 2.3, 4.4, 1.3],\n",
       "        [6.4, 2.9, 4.3, 1.3],\n",
       "        [5.6, 2.8, 4.9, 2. ],\n",
       "        [5.9, 3. , 5.1, 1.8],\n",
       "        [5.4, 3.4, 1.7, 0.2],\n",
       "        [6.1, 2.8, 4. , 1.3],\n",
       "        [4.9, 2.5, 4.5, 1.7],\n",
       "        [5.8, 4. , 1.2, 0.2],\n",
       "        [5.8, 2.6, 4. , 1.2],\n",
       "        [7.1, 3. , 5.9, 2.1]]),\n",
       " array([0, 0, 2, 1, 1, 0, 0, 1, 2, 2, 1, 2, 1, 2, 1, 0, 2, 1, 0, 0, 0, 1,\n",
       "        2, 0, 0, 0, 1, 0, 1, 2, 0, 1, 2, 0, 2, 2, 1, 1, 2, 1, 0, 1, 2, 0,\n",
       "        0, 1, 1, 0, 2, 0, 0, 1, 1, 2, 1, 2, 2, 1, 0, 0, 2, 2, 0, 0, 0, 1,\n",
       "        2, 0, 2, 2, 0, 1, 1, 2, 1, 2, 0, 2, 1, 2, 1, 1, 1, 0, 1, 1, 0, 1,\n",
       "        2, 2, 0, 1, 2, 2, 0, 2, 0, 1, 2, 2, 1, 2, 1, 1, 2, 2, 0, 1, 2, 0,\n",
       "        1, 2]))"
      ]
     },
     "execution_count": 57,
     "metadata": {},
     "output_type": "execute_result"
    }
   ],
   "source": [
    "X_train, y_train"
   ]
  },
  {
   "cell_type": "markdown",
   "metadata": {
    "id": "oCX2IawcPPOJ"
   },
   "source": [
    "Let's see how well your kNN classifier does."
   ]
  },
  {
   "cell_type": "code",
   "execution_count": 58,
   "metadata": {
    "colab": {
     "base_uri": "https://localhost:8080/"
    },
    "id": "Qhu8FsdZMeCN",
    "outputId": "b095fdb1-5f79-48a8-d9bd-fae3c93198a4"
   },
   "outputs": [
    {
     "name": "stdout",
     "output_type": "stream",
     "text": [
      "Testing Accuracy (from scratch): 100.0%\n"
     ]
    }
   ],
   "source": [
    "# Sample Test Case (Not exactly testing, but we have hiddent test for this)\n",
    "from sklearn.metrics import accuracy_score\n",
    "preds = knn_predict(X_train, y_train, X_test, k=3)\n",
    "\n",
    "print(\"Testing Accuracy (from scratch): {}%\".format(100*accuracy_score(y_test, preds)))"
   ]
  },
  {
   "cell_type": "markdown",
   "metadata": {
    "id": "wxZZao_lRxDi"
   },
   "source": [
    "If your testing accuracy is pretty high, then you probably have successfully implemented a correct kNN algorithm. Congratulations!\n",
    "\n"
   ]
  },
  {
   "cell_type": "markdown",
   "metadata": {
    "id": "IBFck3J8eYP_"
   },
   "source": [
    "That was great! Next, you'll dive a little deeper into the KNN algorithm!\n",
    "\n",
    "### Now, let's test on the [hand-written digits dataset](https://scikit-learn.org/stable/modules/generated/sklearn.datasets.load_digits.html#sklearn.datasets.load_digits)."
   ]
  },
  {
   "cell_type": "code",
   "execution_count": 59,
   "metadata": {
    "colab": {
     "base_uri": "https://localhost:8080/"
    },
    "id": "awYqwjshjViB",
    "outputId": "5584be18-400e-4b58-b4fa-56627293a92f"
   },
   "outputs": [
    {
     "name": "stdout",
     "output_type": "stream",
     "text": [
      "(1347, 64) (1347,)\n"
     ]
    }
   ],
   "source": [
    "from sklearn.neighbors import KNeighborsClassifier\n",
    "from sklearn.datasets import load_digits\n",
    "from sklearn.model_selection import train_test_split\n",
    "\n",
    "digits = load_digits()\n",
    "data = digits['data']\n",
    "target = digits['target']\n",
    "X_train, X_test, y_train, y_test = train_test_split(data, target, test_size=0.25, random_state=42)\n",
    "\n",
    "print(X_train.shape, y_train.shape)"
   ]
  },
  {
   "cell_type": "markdown",
   "metadata": {
    "id": "Ist5ry1_rmDz"
   },
   "source": [
    "Try different values for k, **find a k with the highest testing accuracy**. "
   ]
  },
  {
   "cell_type": "code",
   "execution_count": 60,
   "metadata": {
    "colab": {
     "base_uri": "https://localhost:8080/"
    },
    "id": "nOJc0khFkkPl",
    "outputId": "59910001-95a6-4f2f-b0ad-7d2f6bdadd42"
   },
   "outputs": [
    {
     "name": "stdout",
     "output_type": "stream",
     "text": [
      "Test Accuracy: 0.9955555555555555\n"
     ]
    }
   ],
   "source": [
    "\n",
    "k = 6 # Please set different values for k to find the value with the highest testing accuracy.\n",
    "\n",
    "\n",
    "preds_knc = knn_predict(X_train, y_train, X_test, k=k)\n",
    "print(\"Test Accuracy:\", accuracy_score(y_test, preds_knc))"
   ]
  },
  {
   "cell_type": "markdown",
   "metadata": {
    "id": "WMMi5Dmwl5DB"
   },
   "source": [
    "You could try to output a line plot, where the **x-axis** is the value of **k**, and the **y-axis** is the **testing accuracy**. This part will not be graded, but it will help you determine the value of k. You can refer to [plt.plot](https://matplotlib.org/stable/api/_as_gen/matplotlib.pyplot.plot.html)"
   ]
  },
  {
   "cell_type": "code",
   "execution_count": 61,
   "metadata": {
    "id": "266EE3ijl4a3"
   },
   "outputs": [
    {
     "data": {
      "text/plain": [
       "[<matplotlib.lines.Line2D at 0x7fe03be25670>]"
      ]
     },
     "execution_count": 61,
     "metadata": {},
     "output_type": "execute_result"
    },
    {
     "data": {
      "image/png": "[encoded data removed]",
      "text/plain": [
       "<Figure size 432x288 with 1 Axes>"
      ]
     },
     "metadata": {
      "needs_background": "light"
     },
     "output_type": "display_data"
    }
   ],
   "source": [
    "# This is not graded. Extra code only to help you find the highest k\n",
    "import matplotlib.pyplot as plt\n",
    "from sklearn.metrics import accuracy_score\n",
    "\n",
    "### START YOUR CODE ###\n",
    "\n",
    "x_axis = [] # the value of k's\n",
    "y_axis = [] # testing accuracy\n",
    "\n",
    "for k in range(2, 10):\n",
    "    \n",
    "    kpreds = knn_predict(X_train, y_train, X_test, k = k)\n",
    "    x_axis.append(k)\n",
    "    y_axis.append(accuracy_score(y_test,kpreds))\n",
    "\n",
    "### END YOUR CODE ###\n",
    "plt.plot(x_axis, y_axis)"
   ]
  },
  {
   "cell_type": "markdown",
   "metadata": {},
   "source": [
    "What is the value of `k` that gives the highest test accuracy? Replace `None` below by the value that you found. **This next cell will be graded!!**"
   ]
  },
  {
   "cell_type": "code",
   "execution_count": 62,
   "metadata": {
    "id": "FS-Bj9balNlG"
   },
   "outputs": [],
   "source": [
    "#grade\n",
    "\n",
    "k = 6"
   ]
  },
  {
   "cell_type": "markdown",
   "metadata": {
    "id": "YzabRNw7m-5A"
   },
   "source": [
    "# Task 3: Bagging (Bootstrap Aggregate)\n",
    "Remember that decision tree is a function $f:\\mathbb{X}→\\mathbb{Y}$, represented by a binary tree in which:\n",
    "* Each **tree node** is associated with a splitting rule $g : \\mathbb{X} → \\{0, 1\\}$.\n",
    "* Each **leaf node** is associated with a label $y \\in \\mathbb{Y}$.\n",
    "For example,<br>"
   ]
  },
  {
   "cell_type": "markdown",
   "metadata": {
    "id": "DmMIBaCmL8sE"
   },
   "source": [
    "<img src=\"https://drive.google.com/uc?id=1-otgbIhQ7flzWij2ANmrflVB2sbOzFYa\" width=\"500\">"
   ]
  },
  {
   "cell_type": "markdown",
   "metadata": {
    "id": "xkqeVySjo44V"
   },
   "source": [
    "### A one-level decision class is given to you. You will need to use this class later.\n",
    "\n",
    "`Stump` is a class that constructs a decision tree with one internal node. To construct such a tree for a training set we need to call `Stump(data, labels, weights)` where\n",
    "- `data` is a `(n,d)` matrix where each example has `d` features and there are `n` examples in the training set\n",
    "- `labels` is `(n, )` array where the $i$th entry is the label of the $i$th example in `data`\n",
    "- `weights` is `(n, )` array. The label of a leaf is the weighted sum of the labels in the training set. `weights` provides the weight for each example. In this example we will use `weights` to have equal entries."
   ]
  },
  {
   "cell_type": "code",
   "execution_count": 63,
   "metadata": {
    "id": "BZ7m79-3D5Xh"
   },
   "outputs": [],
   "source": [
    "class Stump():\n",
    "    def __init__(self, data, labels, weights):\n",
    "        '''\n",
    "        Initializes a stump (one-level decision tree) which minimizes\n",
    "        a weighted error function of the input dataset.\n",
    "\n",
    "        In this function, you will need to learn a stump using the weighted\n",
    "        datapoints. Each datapoint has 2 features, whose values are bounded in\n",
    "        [-1.0, 1.0]. Each datapoint has a label in {+1, -1}, and its importance\n",
    "        is weighted by a positive value.\n",
    "\n",
    "        The stump will choose one of the features, and pick the best threshold\n",
    "        in that dimension, so that the weighted error is minimized.\n",
    "\n",
    "        Arguments:\n",
    "            data: An ndarray with shape (n, 2). Values in [-1.0, 1.0].\n",
    "            labels: An ndarray with shape (n, ). Values are +1 or -1.\n",
    "            weights: An ndarray with shape (n, ). The weights of each\n",
    "                datapoint, all positive.\n",
    "        '''\n",
    "        dimension = {0, 1}\n",
    "        sign = {-1, 1}\n",
    "        self.min_loss = float('inf')\n",
    "\n",
    "        self.arg_min_loss_dimension = float('inf')\n",
    "        self.arg_min_loss_threshold = float('inf')\n",
    "        self.arg_min_loss_sign = float('inf')\n",
    "\n",
    "        for d in dimension:\n",
    "            data_sort_by_d = data[data[:, d].argsort()]\n",
    "            threshold = [-1.0, 1.0]\n",
    "            for i in range(len(data_sort_by_d) - 1):\n",
    "                threshold.append((data_sort_by_d[i, d] + data_sort_by_d[i + 1, d]) / 2)\n",
    "            threshold = np.unique(threshold)\n",
    "            for t in threshold:\n",
    "                for s in sign:\n",
    "                    labels_hat = []\n",
    "                    for j in data:\n",
    "                        if j[d] >= t:\n",
    "                            labels_hat.append(s)\n",
    "                        else:\n",
    "                            labels_hat.append(-s)\n",
    "                    labels_hat = np.array(labels_hat)\n",
    "                    loss = np.dot(weights, np.abs(labels_hat - labels) / 2)\n",
    "                    if loss < self.min_loss:\n",
    "                        self.min_loss = loss\n",
    "                        self.arg_min_loss_dimension = d\n",
    "                        self.arg_min_loss_threshold = t\n",
    "                        self.arg_min_loss_sign = s\n",
    "\n",
    "\n",
    "    def predict(self, data):\n",
    "        '''\n",
    "        Predicts labels of given datapoints.\n",
    "\n",
    "        Arguments:\n",
    "            data: An ndarray with shape (n, 2). Values in [-1.0, 1.0].\n",
    "\n",
    "        Returns:\n",
    "            prediction: An ndarray with shape (n, ). Values are +1 or -1.\n",
    "        '''\n",
    "        # print(self.arg_min_loss_sign, self.arg_min_loss_threshold, self.arg_min_loss_dimension, self.min_loss)\n",
    "        result = []\n",
    "        for d in data:\n",
    "            if d[self.arg_min_loss_dimension] >= self.arg_min_loss_threshold:\n",
    "                result.append(self.arg_min_loss_sign)\n",
    "            else:\n",
    "                result.append(-self.arg_min_loss_sign)\n",
    "        return np.array(result)"
   ]
  },
  {
   "cell_type": "markdown",
   "metadata": {
    "id": "fER_w5XYpOzZ"
   },
   "source": [
    "### Bagging = Bootstrap aggregating (Leo Breiman, 1994)\n",
    "\n",
    "Random forest is one kind of [Bagging Algorithm](https://en.wikipedia.org/wiki/Bootstrap_aggregating#Algorithm_(classification)). The only difference between the Bagging we need to implement here and the random forest algorithm we talked in class is that when using the decision tree classifier, bagging simply use all the features but random forest will sample $\\sqrt{d}$ features from all the $d$ features.\n",
    "\n",
    "Now, your job is to use the `Stump` (1-level Decision Tree) class to implement the bagging algorithm. You can refer to the pseudocode below: (ignore the variable notations below, only refer to the steps of the algorithm)\n",
    "\n",
    "<br>\n",
    "<img src=\"https://drive.google.com/uc?id=1al1Uj5bohgzrXZ8hOlibaWwDozn1hFX6\" width=\"500\"/>\n",
    "\n",
    "**Remark**: Refer to [`np.random.choice`](https://numpy.org/doc/stable/reference/random/generated/numpy.random.choice.html)\n"
   ]
  },
  {
   "cell_type": "code",
   "execution_count": 77,
   "metadata": {
    "id": "vqnFRt3Noj9d"
   },
   "outputs": [],
   "source": [
    "#grade\n",
    "\n",
    "def bagging(data, labels, n_classifiers, n_samples, seed=0):\n",
    "    '''\n",
    "    Runs Bagging algorithm.\n",
    "\n",
    "    Arguments:\n",
    "        data: An ndarray with shape (n, 2). Values in [-1.0, 1.0].\n",
    "        labels: An ndarray with shape (n, ). Values are +1 or -1.\n",
    "        n_classifiers: Number of classifiers to construct.\n",
    "        n_samples: Number of samples to train each classifier.\n",
    "        seed: Random seed for NumPy.\n",
    "\n",
    "    Returns:\n",
    "        classifiers: A list of classifiers.\n",
    "    '''\n",
    "    classifiers = []\n",
    "    n = data.shape[0]\n",
    "    data_weights = np.ones(n) / n\n",
    "    for i in range(n_classifiers):\n",
    "        np.random.seed(seed + i)\n",
    "        '''\n",
    "        IMPORTANT:\n",
    "          1. You only need to instantiate a list of different classifiers and collect them together.\n",
    "             We will help you run the classifiers and do the majority vote in the visualization function.\n",
    "          2. To instantiate a new one-level decision tree, please use the Stump class, \n",
    "             and pass your sampled data, labels and the data_weights to it.\n",
    "        '''\n",
    "        ### START YOUR CODE HERE ###\n",
    "        subset = np.random.choice(np.arange(0,n), n_samples)\n",
    "        data_subset = data[subset]\n",
    "        labels_subset = labels[subset]\n",
    "        weights_subset = data_weights[subset]\n",
    "        classifier = Stump(data_subset, labels_subset, weights_subset)\n",
    "        \n",
    "        classifiers.append(classifier)\n",
    "        \n",
    "        \n",
    "\n",
    "        ### END YOUR CODE ###\n",
    "\n",
    "    return classifiers"
   ]
  },
  {
   "cell_type": "code",
   "execution_count": 78,
   "metadata": {
    "id": "DhgTKnhFDnV5"
   },
   "outputs": [],
   "source": [
    "def visualization(data, labels, classifiers, weights=None, plot=True):\n",
    "    '''\n",
    "    Visualizes a dataset and the ensemble's predictions in 2D space.\n",
    "\n",
    "    Arguments:\n",
    "        data: An ndarray with shape (n, 2). Values in [-1.0, 1.0].\n",
    "        labels: An ndarray with shape (n, ). Values are +1 or -1.\n",
    "        classifiers: A list of classifiers.\n",
    "        weights: A list of weights assigned to the classifiers.\n",
    "            If None, weights will be equal for all classifiers.\n",
    "    '''\n",
    "    if weights is None:\n",
    "        weights = [1.0] * labels.size\n",
    "\n",
    "    # Aggregate predicions from weighted classifiers\n",
    "    pred = np.zeros(labels.shape)\n",
    "    for s, w in zip(classifiers, weights):\n",
    "        pred += w * s.predict(data)\n",
    "\n",
    "    # Break ties if any\n",
    "    pred = np.sign(np.sign(pred) + 1e-6)\n",
    "\n",
    "    # Count mis-classified datapoints\n",
    "    count = (pred != labels).sum()\n",
    "    if plot:\n",
    "        print('{} points mis-classified'.format(count))\n",
    "\n",
    "    # Plot\n",
    "    if plot:\n",
    "        fig, axes = plt.subplots(1, 2, figsize=(16, 8))\n",
    "        axes[0].set_title('Ground truth')\n",
    "        axes[0].plot(data[labels == 1, 0], data[labels == 1, 1], 'rx')\n",
    "        axes[0].plot(data[labels == -1, 0], data[labels == -1, 1], 'bo')\n",
    "        axes[0].set_xlim(-1, 1)\n",
    "        axes[0].set_ylim(-1, 1)\n",
    "        axes[1].set_title('Prediction')\n",
    "        axes[1].plot(data[pred == 1, 0], data[pred == 1, 1], 'rx')\n",
    "        axes[1].plot(data[pred == -1, 0], data[pred == -1, 1], 'bo')\n",
    "        axes[1].set_xlim(-1, 1)\n",
    "        axes[1].set_ylim(-1, 1)\n",
    "        plt.show()\n",
    "    return pred"
   ]
  },
  {
   "cell_type": "code",
   "execution_count": 79,
   "metadata": {
    "colab": {
     "base_uri": "https://localhost:8080/",
     "height": 517
    },
    "id": "ZYuLT2pip4dA",
    "outputId": "16bc8e49-51cd-4933-d346-843e47131051"
   },
   "outputs": [
    {
     "name": "stdout",
     "output_type": "stream",
     "text": [
      "5 points mis-classified\n"
     ]
    },
    {
     "data": {
      "image/png": "[encoded data removed]",
      "text/plain": [
       "<Figure size 1152x576 with 2 Axes>"
      ]
     },
     "metadata": {
      "needs_background": "light"
     },
     "output_type": "display_data"
    }
   ],
   "source": [
    "# Sample Test Case\n",
    "def get_dataset_fixed():\n",
    "    '''\n",
    "    Returns a simple dataset with pre-defined datapoints.\n",
    "\n",
    "    Returns:\n",
    "        data: An ndarray with shape (20, 2). Values in [-1.0, 1.0].\n",
    "        labels: An ndarray with shape (20, ). Values are +1 or -1.\n",
    "    '''\n",
    "    data = np.array([[ 0.1,  0.4],[ 0.2,  0.1],[-0.2,  0.3],[-0.1,  0.8],\n",
    "                     [ 0.9, -0.2],[ 0.6,  0.1],[ 0.1,  0.9],[-0.9, -0.8],\n",
    "                     [-1. ,  0.7],[ 0.6,  0.7],[ 1. ,  0.6],[-0.1,  0.6],\n",
    "                     [-0.8,  0.3],[-0.7,  0.9],[ 0. , -0.2],[-0.5,  0.5],\n",
    "                     [-0.1,  0.1],[-1. ,  0.2],[ 0.2,  0.2],[ 0.9,  0.4]])\n",
    "    labels = np.array([-1., -1., -1., -1.,  1.,\n",
    "                       -1.,  1.,  1.,  1.,  1.,\n",
    "                        1., -1.,  1.,  1., -1.,\n",
    "                       -1., -1.,  1., -1.,  1.])\n",
    "    return data, labels\n",
    "\n",
    "ans = np.array([-1, -1, -1, -1, -1, \n",
    "                -1, -1,  1,  1, -1,\n",
    "                -1, -1,  1,  1, -1,\n",
    "                -1, -1,  1, -1, -1,])\n",
    "\n",
    "np.random.seed(1234)\n",
    "train_data, train_labels = get_dataset_fixed()\n",
    "bagging_classifiers = bagging(train_data, train_labels, 20, 10) # Don't change this parameter at this moment\n",
    "pred = visualization(train_data, train_labels, bagging_classifiers)\n",
    "# 5 points will be mis-classified\n",
    "assert np.array_equal(ans, pred)"
   ]
  },
  {
   "cell_type": "markdown",
   "metadata": {
    "id": "Axbd1XU_Jvnw"
   },
   "source": [
    "### Next, play with your bagging algorithm by setting different parameters (number of decision tree classifiers and number of samples for each classifier)\n",
    "\n",
    "Set values for `num_classifiers` and `num_samples` so that you get fewer than 5 errors."
   ]
  },
  {
   "cell_type": "code",
   "execution_count": 88,
   "metadata": {
    "colab": {
     "base_uri": "https://localhost:8080/",
     "height": 517
    },
    "id": "1ckqF-64p-J1",
    "outputId": "2fee46f7-b713-423a-d389-a42be52fde09"
   },
   "outputs": [
    {
     "name": "stdout",
     "output_type": "stream",
     "text": [
      "2 points mis-classified\n"
     ]
    },
    {
     "data": {
      "image/png": "[encoded data removed]",
      "text/plain": [
       "<Figure size 1152x576 with 2 Axes>"
      ]
     },
     "metadata": {
      "needs_background": "light"
     },
     "output_type": "display_data"
    }
   ],
   "source": [
    "\n",
    "np.random.seed(1234)\n",
    "num_classifiers = 6\n",
    "num_samples = 10\n",
    "\n",
    "train_data, train_labels = get_dataset_fixed()\n",
    "bagging_classifiers = bagging(train_data, train_labels, num_classifiers, num_samples) \n",
    "pred = visualization(train_data, train_labels, bagging_classifiers)\n",
    "\n",
    "# Test Case\n",
    "count = (pred != train_labels).sum()\n",
    "assert count < 5"
   ]
  },
  {
   "cell_type": "code",
   "execution_count": null,
   "metadata": {},
   "outputs": [],
   "source": []
  }
 ],
 "metadata": {
  "colab": {
   "collapsed_sections": [
    "dSIJUrOgeYP9",
    "IBFck3J8eYP_",
    "YzabRNw7m-5A"
   ],
   "provenance": []
  },
  "kernelspec": {
   "display_name": "base",
   "language": "python",
   "name": "python3"
  },
  "language_info": {
   "codemirror_mode": {
    "name": "ipython",
    "version": 3
   },
   "file_extension": ".py",
   "mimetype": "text/x-python",
   "name": "python",
   "nbconvert_exporter": "python",
   "pygments_lexer": "ipython3",
   "version": "3.9.15"
  },
  "vscode": {
   "interpreter": {
    "hash": "d996e21d0ad5951d98aa091e32bb8f16089d875a183688e5650e6f98c89c2d11"
   }
  }
 },
 "nbformat": 4,
 "nbformat_minor": 4
}
