{
 "cells": [
  {
   "cell_type": "code",
   "execution_count": 1,
   "metadata": {
    "id": "_nHNdVwg7E10"
   },
   "outputs": [],
   "source": [
    "%matplotlib inline\n",
    "%load_ext autoreload\n",
    "%autoreload 2\n",
    "\n",
    "import matplotlib.pyplot as plt\n",
    "import numpy as np\n",
    "from numpy import linalg as la\n",
    "import pandas as pd\n",
    "import sklearn"
   ]
  },
  {
   "cell_type": "markdown",
   "metadata": {
    "id": "GM-pkTDl7JiF"
   },
   "source": [
    "## Task 1: Perceptron Algorithm\n"
   ]
  },
  {
   "cell_type": "markdown",
   "metadata": {
    "id": "GeriCBycxE3n"
   },
   "source": [
    "Implement a simple perceptron as discussed in class that takes the following three arguments as input:\n",
    "\n",
    "1. `X`: A numpy array of the shape `(N,d)` where `N` is the number of data points, and `d` is the data dimension. Do not assume anything about `N` or `d` other than being a positive integer. `X` is the input data features in the training set.\n",
    "2. `Y`: A numpy array of the shape `(N,)`, the labels set corresponding to `X`. Each entry in `Y` is either $+1$ or $-1$.\n",
    "3. `num_epochs`: The number of epochs the perceptron runs\n",
    "\n",
    "and returns the parameters $\\theta$ of the perceptron after the last epoch completes where\n",
    "$$\\theta=\\begin{bmatrix} \\theta_0\\\\ \\theta_1\\\\ \\cdots \\\\ \\theta_d \\end{bmatrix}$$\n",
    "which is a numpy array with a shape of `(d+1,1)`. Notice that $\\theta$ has one more dimension than the inputs because of the constant $\\theta_0$.\n",
    "\n",
    "Recall the perceptron can be thought of as running stochastic gradient descent with the cost function for $\\theta$, one input $x$, and an output $y$ given by\n",
    "$$ \\ell_h(\\theta,x,y) = \\max (0, -y\\theta^\\intercal x).$$\n",
    "Specifically, in each epoch, we go through each sample $(x,y)$ in the training set, and update $\\theta$ as\n",
    "$$\\theta \\leftarrow \\theta + yx$$\n",
    "if $y\\theta^\\intercal x \\leq 0$. \n",
    "\n",
    "Complete the description below of function `perceptron` to get an implementation of perceptron. The implementation below, also tracks the fraction of samples in the training set that are wrongly classfied in each epoch; this is maintained so that we can later plot to see how the error changes."
   ]
  },
  {
   "cell_type": "code",
   "execution_count": 2,
   "metadata": {
    "id": "RFym0u7Yei_-"
   },
   "outputs": [],
   "source": [
    "#grade\n",
    "\n",
    "def perceptron(X, Y, num_epochs):\n",
    "    assert X.ndim==2\n",
    "    N = X.shape[0]\n",
    "    d = X.shape[1]\n",
    "    assert Y.size == N\n",
    "    \n",
    "    errors = []\n",
    "    X_constant = np.concatenate([np.ones((N,1)), X], axis=1) # concatenate a column of 1's\n",
    "    theta = np.zeros(X_constant.shape[1])\n",
    "    for epoch in range(num_epochs):\n",
    "        err = 0 #reset the error counter\n",
    "        \n",
    "        for i, x in enumerate(X_constant):\n",
    "            guess = np.dot(x,theta) #take the dot product of the weight and the data\n",
    "            guess = 1.0 if guess > 0 else -1.0 \n",
    "            \n",
    "            if guess != Y[i]:\n",
    "                err += 1 # the classifier was wrong on the example\n",
    "                \n",
    "                ### WRITE YOUR CODE HERE\n",
    "                theta = theta + Y[i]*x\n",
    "                \n",
    "                ### END STUDENT SOLUTION\n",
    "        \n",
    "        errors.append(err/X_constant.shape[0]) #track the error after each pass through the training set\n",
    "    return theta, np.array(errors)\n",
    "\n",
    "    "
   ]
  },
  {
   "cell_type": "code",
   "execution_count": 3,
   "metadata": {},
   "outputs": [],
   "source": [
    "#SAMPLE TEST CASE\n",
    "some_X = np.array([[-1,-1], [-5,-2.5], [-7.5,7.5], [10,7.5], [-2.5,12.5], [5,10], [5,5]])\n",
    "some_Y = np.array([[-1], [-1], [-1], [1], [-1], [1], [1]])\n",
    "num_epochs = 1\n",
    "theta, errors = perceptron(some_X, some_Y, num_epochs)\n",
    "assert np.array_equal(theta.round(3), np.array([0, 12.5, -5]))"
   ]
  },
  {
   "cell_type": "markdown",
   "metadata": {
    "id": "OChx3tZ2haR8"
   },
   "source": [
    "## Task 2: Read and visualize digits data"
   ]
  },
  {
   "cell_type": "markdown",
   "metadata": {
    "id": "8V6Y9gKoPrk0"
   },
   "source": [
    "We will run perceptron on a dataset that comprises of images of handwritten digits 0-9. The dataset is too large to be uploaded as a single file in PrairieLearn. So it has been split into 8 files, which is read and merged into a single np array. The training dataset has 42000 such images, represented as 28x28 bits that we use as a flattened feature vector of length 28*28=784. The data set has an additional index column. Each image has the label of the digit that it is an image of. Run the code below to read in the data and visualize a single digit. Feel free to modify the index for `samplerow` to see some other digit examples."
   ]
  },
  {
   "cell_type": "code",
   "execution_count": 4,
   "metadata": {
    "colab": {
     "base_uri": "https://localhost:8080/"
    },
    "id": "AKYFbSaIXeKW",
    "outputId": "f853562c-54d9-4735-9ac2-af5159628a5f"
   },
   "outputs": [
    {
     "name": "stdout",
     "output_type": "stream",
     "text": [
      "Training set has 42000 rows and 785 columns\n"
     ]
    }
   ],
   "source": [
    "# Read data files and merge them to create one np array\n",
    "train = pd.concat(map(pd.read_csv, [\"train_1.csv\",\"train_2.csv\",\"train_3.csv\",\"train_4.csv\",\"train_5.csv\",\"train_6.csv\",\"train_7.csv\",\"train_8.csv\"]), ignore_index=True)\n",
    "\n",
    "# Get some information about the data:\n",
    "print(\"Training set has {0[0]} rows and {0[1]} columns\".format(train.shape))"
   ]
  },
  {
   "cell_type": "code",
   "execution_count": 5,
   "metadata": {
    "colab": {
     "base_uri": "https://localhost:8080/",
     "height": 301
    },
    "id": "3AKL45i_d19d",
    "outputId": "734f5195-fc38-4dfe-cfcd-4535e8f0c259"
   },
   "outputs": [
    {
     "name": "stdout",
     "output_type": "stream",
     "text": [
      "A sample digit from the dataset:\n"
     ]
    },
    {
     "data": {
      "text/plain": [
       "<matplotlib.image.AxesImage at 0x1679987c0>"
      ]
     },
     "execution_count": 5,
     "metadata": {},
     "output_type": "execute_result"
    },
    {
     "data": {
      "image/png": "[encoded data removed]",
      "text/plain": [
       "<Figure size 640x480 with 1 Axes>"
      ]
     },
     "metadata": {},
     "output_type": "display_data"
    }
   ],
   "source": [
    "# Store the labels in a vector\n",
    "trainlabels = train.label\n",
    "\n",
    "# Store the data in a matrix (without labels)\n",
    "traindata = np.array(train.loc[:,'pixel0':])\n",
    "\n",
    "# Visualize a single digit (one row from the training data matrix)\n",
    "samplerow = traindata[3:4] # Get one row from training data. Feel free to change the row\n",
    "samplerow = np.reshape(samplerow,(28,28)) # reshape it to a 28*28 grid\n",
    "print(\"A sample digit from the dataset:\")\n",
    "plt.imshow(samplerow, cmap=\"hot\")"
   ]
  },
  {
   "cell_type": "code",
   "execution_count": 6,
   "metadata": {},
   "outputs": [
    {
     "data": {
      "text/plain": [
       "8"
      ]
     },
     "execution_count": 6,
     "metadata": {},
     "output_type": "execute_result"
    }
   ],
   "source": [
    "trainlabels[10]"
   ]
  },
  {
   "cell_type": "markdown",
   "metadata": {
    "id": "BwHok1aOlxSm"
   },
   "source": [
    "## Task 3: Train Perceptron"
   ]
  },
  {
   "cell_type": "markdown",
   "metadata": {
    "id": "lKdSqNlWQqPG"
   },
   "source": [
    "The original dataset is for a *multiclass* classification problem: given an image, which among the 10 digits (0-9) does it correspond to? We are instead going to break this up into 10 binary classification problems: Can you train perceptron to find a classifier that separates all the images for digit $i$ from those that are not for digit $i$? The function `createLabels` creates the label vector for the binary classification problem for digit `k`. In other words, it creates a labels set Y that is +1 wherever we have the desired digit `k`, and -1 for all other digits. Complete the description of this function below."
   ]
  },
  {
   "cell_type": "code",
   "execution_count": 7,
   "metadata": {
    "id": "XVoW7Wro-1yv"
   },
   "outputs": [],
   "source": [
    "#grade\n",
    "\n",
    "def createLabels(L,k):\n",
    "    # L is (N,) np array that stores the labels for multi-class classification\n",
    "    \n",
    "    Y = np.zeros(L.shape)\n",
    "    for i in range(len(L)):\n",
    "        \n",
    "        ### WRITE YOUR CODE HERE\n",
    "        digit = L[i]\n",
    "            \n",
    "        if digit == k:\n",
    "\n",
    "            Y[i] = 1\n",
    "            \n",
    "        else:\n",
    "            \n",
    "            Y[i] = -1\n",
    "        \n",
    "        \n",
    "        ### END STUDENT SOLUTION\n",
    "    \n",
    "    return Y"
   ]
  },
  {
   "cell_type": "code",
   "execution_count": 14,
   "metadata": {},
   "outputs": [
    {
     "name": "stdout",
     "output_type": "stream",
     "text": [
      "0        1\n",
      "1        0\n",
      "2        1\n",
      "3        4\n",
      "4        0\n",
      "        ..\n",
      "41995    0\n",
      "41996    1\n",
      "41997    7\n",
      "41998    6\n",
      "41999    9\n",
      "Name: label, Length: 42000, dtype: int64\n"
     ]
    }
   ],
   "source": [
    "print(trainlabels)"
   ]
  },
  {
   "cell_type": "code",
   "execution_count": 16,
   "metadata": {},
   "outputs": [
    {
     "name": "stdout",
     "output_type": "stream",
     "text": [
      "42000\n",
      "[-1. -1. -1. ... -1. -1. -1.]\n"
     ]
    }
   ],
   "source": [
    "#SAMPLE TEST CASE\n",
    "Y = createLabels(trainlabels,4)\n",
    "assert Y[3] == 1.0 and Y[4] == -1.0\n",
    "Y = createLabels(trainlabels,8)\n",
    "assert Y[4] == -1.0 and Y[300] == 1.0\n",
    "print(len(Y))\n",
    "print(Y)"
   ]
  },
  {
   "cell_type": "markdown",
   "metadata": {
    "id": "ypnaTmyO03Bn"
   },
   "source": [
    "Let us run your perceptron function to test how it does on finding a classifier for the digit $4$. "
   ]
  },
  {
   "cell_type": "code",
   "execution_count": 9,
   "metadata": {
    "id": "ZPef8TOJq7BG"
   },
   "outputs": [],
   "source": [
    "#SAMPLE TEST CASE\n",
    "num_epochs = 15\n",
    "theta, errors = perceptron(traindata, createLabels(trainlabels,4), num_epochs)\n",
    "#print(errors.round(3))\n",
    "assert np.array_equal(errors.round(3), [0.035, 0.028, 0.028, 0.027, \n",
    "                                        0.026, 0.026, 0.026, 0.025, \n",
    "                                        0.025, 0.025, 0.025, 0.025, \n",
    "                                        0.025, 0.025, 0.024])"
   ]
  },
  {
   "cell_type": "code",
   "execution_count": 10,
   "metadata": {},
   "outputs": [
    {
     "data": {
      "text/plain": [
       "array([0.0347381 , 0.02838095, 0.02811905, 0.027     , 0.02614286,\n",
       "       0.02595238, 0.02554762, 0.02480952, 0.02538095, 0.02464286,\n",
       "       0.02519048, 0.02511905, 0.02452381, 0.02502381, 0.02438095])"
      ]
     },
     "execution_count": 10,
     "metadata": {},
     "output_type": "execute_result"
    }
   ],
   "source": [
    "errors"
   ]
  },
  {
   "cell_type": "markdown",
   "metadata": {
    "id": "yabjCDyqTAE2"
   },
   "source": [
    "## Task 4: Plotting loss curves"
   ]
  },
  {
   "cell_type": "markdown",
   "metadata": {
    "id": "oSjd6mdmSpzZ"
   },
   "source": [
    "We will now run perceptron to get the classifier for each of the digits. We will get the classification errors for each epoch and plot them to see how the change over time. The function `get_perceptron_errors` (below) runs perceptron for each of the digits and gets their errors. What do you observe about the loss curves, and what does this tell us? Why do you think some digits are harder/easier for the perceptron to classify on? Feel free to modify `num_epochs` in `get_perceptron_errors` to see how the loss curves change. If you only want to see the loss curves of a few specific digit classes with more detail, feel free to modify the `digits` array in the first line of `plot_perceptron_errors` (entires in this array MUST be integers 0-9)."
   ]
  },
  {
   "cell_type": "code",
   "execution_count": 11,
   "metadata": {
    "id": "RXe46PPtHyV9"
   },
   "outputs": [],
   "source": [
    "def get_perceptron_errors(num_epochs):\n",
    "    errors_arr = []\n",
    "    for n in range(10):\n",
    "        Y = createLabels(trainlabels,n)\n",
    "        theta, errors = perceptron(traindata, Y, num_epochs)\n",
    "        errors_arr.append(errors)\n",
    "    return errors_arr\n",
    "\n",
    "num_epochs = 15\n",
    "errors_arr = get_perceptron_errors(num_epochs)"
   ]
  },
  {
   "cell_type": "code",
   "execution_count": 12,
   "metadata": {
    "colab": {
     "base_uri": "https://localhost:8080/",
     "height": 265
    },
    "id": "ZE5493YLcgG3",
    "outputId": "b01bb6fb-46f0-4740-9b79-12e2245acae3"
   },
   "outputs": [
    {
     "data": {
      "image/png": "[encoded data removed]",
      "text/plain": [
       "<Figure size 640x480 with 1 Axes>"
      ]
     },
     "metadata": {},
     "output_type": "display_data"
    }
   ],
   "source": [
    "def plot_perceptron_errors(errors_arr):\n",
    "    digits = [0, 1, 2, 3, 4, 5, 6, 7, 8, 9] #modify to see loss curve for specific digits\n",
    "    for n in digits:\n",
    "        plt.plot(list(range(0,len(errors_arr[n]))),errors_arr[n], label=n)\n",
    "    leg = plt.legend(loc='upper right')\n",
    "    plt.show()\n",
    "\n",
    "plot_perceptron_errors(errors_arr)"
   ]
  },
  {
   "cell_type": "code",
   "execution_count": null,
   "metadata": {},
   "outputs": [],
   "source": []
  }
 ],
 "metadata": {
  "colab": {
   "collapsed_sections": [],
   "provenance": []
  },
  "kernelspec": {
   "display_name": "base",
   "language": "python",
   "name": "python3"
  },
  "language_info": {
   "codemirror_mode": {
    "name": "ipython",
    "version": 3
   },
   "file_extension": ".py",
   "mimetype": "text/x-python",
   "name": "python",
   "nbconvert_exporter": "python",
   "pygments_lexer": "ipython3",
   "version": "3.9.15"
  },
  "vscode": {
   "interpreter": {
    "hash": "d996e21d0ad5951d98aa091e32bb8f16089d875a183688e5650e6f98c89c2d11"
   }
  }
 },
 "nbformat": 4,
 "nbformat_minor": 4
}
