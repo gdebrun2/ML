{
 "cells": [
  {
   "cell_type": "code",
   "execution_count": 1,
   "metadata": {
    "id": "_nHNdVwg7E10"
   },
   "outputs": [],
   "source": [
    "%matplotlib inline\n",
    "%load_ext autoreload\n",
    "%autoreload 2\n",
    "\n",
    "import matplotlib.pyplot as plt\n",
    "import numpy as np\n",
    "from numpy import linalg as la\n",
    "import pandas as pd\n",
    "import sklearn"
   ]
  },
  {
   "cell_type": "markdown",
   "metadata": {
    "id": "NF4gDX9-7J4R"
   },
   "source": [
    "# Part 1: Logistic Regression"
   ]
  },
  {
   "cell_type": "markdown",
   "metadata": {
    "id": "06mBDVcrBdCi"
   },
   "source": [
    "Write a function `logistic` that fits a logistic regression model using **gradient descent** and takes the following two arguments as input:\n",
    "\n",
    "1. `X`: A numpy array of the shape `(N,d)` where `N` is the number of data points, and `d` is the data dimension. Do not assume anything about `N` or `d` other than being a positive integer. `X` is the input data features in the training set.\n",
    "2. `Y`: A numpy array of the shape `(N,1)`, the labels set corresponding to `X`. Each label is either -1 or +1.\n",
    "\n",
    "\n",
    "and returns the logistic regression weight vector defining the decision boundary:\n",
    "$$\\theta=\\begin{bmatrix} \\theta_0\\\\ \\theta_1\\\\ \\cdots \\\\ \\theta_d \\end{bmatrix}$$\n",
    "which is a numpy array with a shape of `(d+1,1)`. Your function should:\n",
    "\n",
    "1. **Have an Intercept Weight** (Same as before): In other words, your fitting model should be minimizing the following logistic loss \n",
    "\\begin{align}\n",
    "\\mathcal{J}(\\theta; X, Y) &= \\frac{1}{N}\\sum_{i=1}^N \\ln(1+\\exp(-y_i \\pmb{\\theta}^T \\pmb{x_i}))\n",
    "\\end{align}\n",
    "An easy way to do this is by concatenating a constant 1-column to the data matrix (this has already been done for you).\n",
    "\n",
    "2. **Calculate Gradients**: In gradient descent, we try to approach the global minimum by moving the parameters opposite to the direction of its gradient step by step. So, to implement gradient descent, we first need to know the gradient of the loss with respect to $\\theta$, which we computed in the lectures to be:\n",
    "$$\n",
    "\\nabla_\\theta \\mathcal{J}(\\theta; X, Y) = \\frac{1}{N} \\sum_{i=1}^N \\frac{-y_i \\pmb{x_i}}{1+\\exp(y_i\\pmb{\\theta}^T \\pmb{x_i})}\n",
    "$$\n",
    "In gradient descent, we start with an initial value for the vector $\\theta$ and for a fixed number of iterations, update $\\theta$ as follows:\n",
    "$$\n",
    "\\theta \\leftarrow \\theta - \\alpha \\frac{1}{N} \\sum_{i=1}^N \\frac{-y_i \\pmb{x_i}}{1+\\exp(y_i\\pmb{\\theta}^T \\pmb{x_i})}.\n",
    "$$\n",
    "$\\alpha$ above is the *learning rate*.\n",
    "\n",
    "**Note**: You should not modify the learning_rate(`lrate`) or iterations(`num_iter`) as that will change the results your code produces from the one the autograder expects."
   ]
  },
  {
   "cell_type": "code",
   "execution_count": 2,
   "metadata": {
    "id": "hQ3kIpIR-Jfi"
   },
   "outputs": [],
   "source": [
    "#grade\n",
    "\n",
    "def logistic(X, Y, lrate=.01, num_iter=1000):\n",
    "    '''\n",
    "    Arguments:\n",
    "        X (n x d FloatTensor): the feature matrix\n",
    "        Y (n x 1 FloatTensor): the labels\n",
    "\n",
    "    Returns:\n",
    "        (d + 1) x 1 FloatTensor: the parameters theta\n",
    "    '''\n",
    "    \n",
    "    n, d = X.shape\n",
    "    X = np.concatenate((np.ones((n, 1)), X), 1)\n",
    "    theta = np.zeros((d+1, 1))\n",
    "    theta = theta.flatten()\n",
    "\n",
    "\n",
    "    for i in range(num_iter):\n",
    "        ### WRITE YOUR CODE HERE\n",
    "        \n",
    "        s = np.zeros(X.shape[1])\n",
    "        \n",
    "        for j in range(n):\n",
    "            \n",
    "            denominator = 1 + np.exp(Y[j] * np.inner(theta, X[j,:]) )\n",
    "            \n",
    "            numerator = -Y[j] * X[j,:]\n",
    "            \n",
    "            s += numerator / denominator[0]\n",
    "            \n",
    "        theta = theta - lrate/n * s\n",
    "        ### END STUDENT CODE\n",
    "        \n",
    "    return theta.reshape((d+1, 1))"
   ]
  },
  {
   "cell_type": "markdown",
   "metadata": {
    "id": "q8arYqGSCPyB"
   },
   "source": [
    "The code below will generate the dataset for logistic regression. It is guaranteed to be linearly seperable."
   ]
  },
  {
   "cell_type": "code",
   "execution_count": 3,
   "metadata": {
    "id": "sBb_fbv07LO9"
   },
   "outputs": [],
   "source": [
    "def load_logistic_data():\n",
    "    np.random.seed(1)\n",
    "    w = np.array([-1., 2.])\n",
    "    margin=1.5\n",
    "    size=200\n",
    "    bounds=[-5., 5.]\n",
    "    trans=0.0\n",
    "    in_margin = lambda x: np.abs(w.flatten().dot(x.flatten())) / la.norm(w) < margin\n",
    "    half_margin = lambda x: 0.6*margin < w.flatten().dot(x.flatten()) / la.norm(w) < 0.65*margin\n",
    "    X = []\n",
    "    Y = []\n",
    "    for i in range(size):\n",
    "        x = np.random.uniform(bounds[0], bounds[1], 2) + trans\n",
    "        while in_margin(x):\n",
    "            x = np.random.uniform(bounds[0], bounds[1], 2) + trans\n",
    "        if w.flatten().dot(x.flatten()) + trans > 0:\n",
    "            Y.append(1.)\n",
    "        else:\n",
    "            Y.append(-1.)\n",
    "        X.append(x)\n",
    "    for j in range(1):\n",
    "        x_out = np.random.uniform(bounds[0], bounds[1], 2) + trans\n",
    "        while not half_margin(x_out):\n",
    "              x_out = np.random.uniform(bounds[0], bounds[1], 2) + trans\n",
    "        X.append(x_out)\n",
    "        Y.append(-1.)\n",
    "    X = np.stack(X)\n",
    "    Y = np.stack(Y).reshape(-1, 1)\n",
    "\n",
    "    return X, Y"
   ]
  },
  {
   "cell_type": "code",
   "execution_count": 4,
   "metadata": {
    "id": "vnhU6JE8Phz7"
   },
   "outputs": [
    {
     "name": "stdout",
     "output_type": "stream",
     "text": [
      "[[-0.03716203]\n",
      " [-0.54661557]\n",
      " [ 1.39766331]]\n"
     ]
    }
   ],
   "source": [
    "#SAMPLE TEST CASE\n",
    "X, Y = load_logistic_data()\n",
    "theta = logistic(X, Y)\n",
    "print(theta)\n",
    "assert np.array_equal(theta.round(3), np.array([[-0.037],\n",
    "                                                [-0.547],\n",
    "                                                [ 1.398]]))\n"
   ]
  },
  {
   "cell_type": "markdown",
   "metadata": {
    "id": "tWo1eOj5CmIJ"
   },
   "source": [
    "In a previous week's lab, we looked at gradient descent for linear regression. The code below defines a function for computing the decision boundary computed by the ordinary least squares model, to compare with the decision boundary computed by the logistic regression model you just implemented."
   ]
  },
  {
   "cell_type": "code",
   "execution_count": 5,
   "metadata": {
    "id": "NGI0i2Td-DTr"
   },
   "outputs": [],
   "source": [
    "def linear_gd(X, Y, lrate=0.01, num_iter=1000):\n",
    "    '''\n",
    "    Arguments:\n",
    "        X (n x d numpy array): the feature matrix\n",
    "         Y (n x 1 numpy array): the labels\n",
    "        num_iter (int): iterations of gradient descent to perform\n",
    "\n",
    "    Returns:\n",
    "        (d + 1) x 1 numpy array: the parameters w\n",
    "    '''\n",
    "    n, d = X.shape\n",
    "    X = np.concatenate((np.ones((n, 1)), X), 1)\n",
    "    theta = np.zeros((d+1, 1))\n",
    "    for i in range(num_iter):\n",
    "        theta = theta - (lrate/n) * X.T @ (X @ theta - Y)\n",
    "    return theta"
   ]
  },
  {
   "cell_type": "markdown",
   "metadata": {
    "id": "pHOmoEE3DjpY"
   },
   "source": [
    "Run the code below to plot the two different decision boundaries on the dataset. The two colors represent class labels. This may take a few minutes to complete."
   ]
  },
  {
   "cell_type": "code",
   "execution_count": 6,
   "metadata": {
    "colab": {
     "base_uri": "https://localhost:8080/",
     "height": 301
    },
    "id": "sMrn-wnP-Kpc",
    "outputId": "566a75ce-c443-4a14-d41d-d69a204f2ec0"
   },
   "outputs": [
    {
     "data": {
      "image/png": "[encoded data removed]",
      "text/plain": [
       "<Figure size 640x480 with 1 Axes>"
      ]
     },
     "metadata": {},
     "output_type": "display_data"
    },
    {
     "data": {
      "text/plain": [
       "<Figure size 640x480 with 0 Axes>"
      ]
     },
     "execution_count": 6,
     "metadata": {},
     "output_type": "execute_result"
    },
    {
     "data": {
      "text/plain": [
       "<Figure size 640x480 with 0 Axes>"
      ]
     },
     "metadata": {},
     "output_type": "display_data"
    }
   ],
   "source": [
    "def logistic_vs_ols():\n",
    "    '''\n",
    "    Returns:\n",
    "        Figure: the figure plotted with matplotlib\n",
    "    '''\n",
    "    X, Y = load_logistic_data()\n",
    "    n, d = X.shape\n",
    "    theta_log = logistic(X, Y, lrate=.01, num_iter=1000)\n",
    "    theta_linear = linear_gd(X, Y)\n",
    "    plt.scatter(X[:,0], X[:,1], c = Y[:,0])\n",
    "    X_ = np.concatenate((np.ones((n, 1)), X), 1)\n",
    "    plt.plot(X[:,:d-1], -(X_[:,:d]@theta_linear[:d])/theta_linear[d], color='red')\n",
    "    plt.plot(X[:,:d-1], -(X_[:,:d]@theta_log[:d])/theta_log[d], color='blue')\n",
    "    plt.show()\n",
    "    return plt.gcf()\n",
    "    \n",
    "logistic_vs_ols()"
   ]
  },
  {
   "cell_type": "markdown",
   "metadata": {
    "id": "76MUX2ZlDu4J"
   },
   "source": [
    "Which model appears to classify the data better? Can you explain your reasoning? If you had access to more data, how might that change your conclusion? What causes this difference in boundaries, and what can you say about the set of optimal solutions for each model? "
   ]
  },
  {
   "cell_type": "markdown",
   "metadata": {
    "id": "0w5IPH5Pal5-"
   },
   "source": [
    "# Part 2: Softmax Regression"
   ]
  },
  {
   "cell_type": "markdown",
   "metadata": {
    "id": "8V6Y9gKoPrk0"
   },
   "source": [
    "For this part of the lab, we will use a similar dataset as we used for last week's Perceptron lab: the MNIST dataset, which comprises of handwritten digits 0-9. We will only use a subset of the training set, which is 19999 digits represented as 28x28 images that we use as a flattened feature vector of length 28*28=784. In the csv file we will use, the first column of the csv is the labels vector."
   ]
  },
  {
   "cell_type": "code",
   "execution_count": 7,
   "metadata": {
    "id": "9nUKuNLCHhIG"
   },
   "outputs": [
    {
     "name": "stdout",
     "output_type": "stream",
     "text": [
      "(19999, 785)\n"
     ]
    }
   ],
   "source": [
    "train = pd.concat(map(pd.read_csv, [\"train_1.csv\",\"train_2.csv\",\"train_3.csv\",\"train_4.csv\"]), ignore_index=True)\n",
    "print(train.shape)\n",
    "\n",
    "traindata = np.array(train)[:,1:]\n",
    "trainlabels = np.array(train)[:,0]"
   ]
  },
  {
   "cell_type": "code",
   "execution_count": 8,
   "metadata": {},
   "outputs": [
    {
     "name": "stdout",
     "output_type": "stream",
     "text": [
      "[5 7 9 5 2 0 6 5 5 2]\n"
     ]
    }
   ],
   "source": [
    "print(trainlabels[:10])"
   ]
  },
  {
   "cell_type": "markdown",
   "metadata": {
    "id": "tWcUPTZttHPn"
   },
   "source": [
    "As discussed in lecture, for Softmax Regression we want to put each label as a \"one-hot\" binary vector of length $k-1$, where $k$ is the number of classes. For a specific label $y = i$, if $i \\neq k-1$ (with 0-indexing), the corresponding one-hot vector will have 1 at index $i$ and 0s everywhere else. In the case the label $i = k-1$, the correspoding vector will be all 0s. Define the function below that takes as input a labels array $Y$ with $k$ classes and returns the one-hot encoding, a 2d array of size $($len$(Y), k-1)$ with each row being the one-hot encoding of each label. "
   ]
  },
  {
   "cell_type": "code",
   "execution_count": 9,
   "metadata": {
    "id": "fcjjlxq37GIJ"
   },
   "outputs": [],
   "source": [
    "#grade\n",
    "\n",
    "def one_hot(Y, k):\n",
    "    \n",
    "    # Y --> label/ground truth.\n",
    "    # k --> Number of classes.\n",
    "    # return one-hot encoding of Y\n",
    "    \n",
    "    ### WRITE YOUR CODE HERE\n",
    "    encoding = np.zeros((len(Y), k - 1))\n",
    "    \n",
    "    for idx, label in enumerate(Y):\n",
    "        \n",
    "        if label < k - 1:\n",
    "            \n",
    "            encoding[idx][label] = 1 \n",
    "        \n",
    "        \n",
    "    return encoding\n",
    "    \n",
    "    \n",
    "    ### END STUDENT CODE"
   ]
  },
  {
   "cell_type": "code",
   "execution_count": 10,
   "metadata": {
    "id": "6kUamnwnwIk9"
   },
   "outputs": [],
   "source": [
    "# SAMPLE TEST\n",
    "Y = [0, 3, 1, 2, 1, 4, 4, 3, 0]\n",
    "k = 5\n",
    "assert np.array_equal(one_hot(Y, k), np.array([[1., 0., 0., 0.],\n",
    "                                              [0., 0., 0., 1.],\n",
    "                                              [0., 1., 0., 0.],\n",
    "                                              [0., 0., 1., 0.],\n",
    "                                              [0., 1., 0., 0.],\n",
    "                                              [0., 0., 0., 0.],\n",
    "                                              [0., 0., 0., 0.],\n",
    "                                              [0., 0., 0., 1.],\n",
    "                                              [1., 0., 0., 0.]]))"
   ]
  },
  {
   "cell_type": "markdown",
   "metadata": {
    "id": "x6HovXoQwwD4"
   },
   "source": [
    "**Implementing Softmax Regression**\n",
    "\n",
    "Recall that the softmax regression model can be viewed as a generalized logistic regression model for multiple classes. \n",
    "\n",
    "Let $\\Theta$ be a $(d+1)×(k−1)$ dimensional vector where the $j$th column is the parameters for output $j$. \n",
    "\n",
    "Generally, for input $x$, let $a_j(x)$ be the output for the $j \\in \\{1,2,\\ldots k-1\\}$; the output is $a_j(x) = \\frac{e^{\\theta_j^Tx}}{1+ \\sum_{i=1}^{k-1} e^{\\theta_i^Tx}}$.\n",
    "\n",
    "For our task below, $\\theta_j^Tx$ can become very large, and when we exponentiate this linear term $(e^{\\theta_j^Tx})$, we get numerical stability issues as exponentiation overflows. To avoid this problem, we must reduce the magnitude of the linear term in a consistent way that does not effect the final class output. Here, we will subtract $\\max\\{\\theta_j^Tx\\}$ from each value of $\\theta_j^Tx$. So $a_j(x) = \\frac{e^{\\theta_j^Tx - \\max\\{\\theta_j^Tx\\}}}{1+ \\sum_{i=1}^{k-1} e^{{\\theta_i^Tx} - \\max\\{\\theta_j^Tx\\}}}$. Notice the denominator is the same for each row --- the sum of the numerators in each row + 1.\n",
    "\n",
    "Let $A$ be the $n \\times (k-1)$ dimensional matrix where the $i$th row is the vector $(a_1(x^{(i)}), a_2(x^{(i)}), \\ldots a_{k-1}(x^{(i)}))$, i.e., the output produced by the $a_j$s on the $i$th row of $X$. In other words, the $ij$th entry of $A$ is $a_j(x^{(i)})$.\n",
    "\n",
    "For SGD, suppose we want to update the parameters with respect to example $(x,y)$, where $x$ is a column vector of size $(d+1)$, and $y$ is a vector of size $k-1$. Consider the (row) vector $a-y$, where the $i$th entry is $a_i(x) - y_i$, where $a_i$ defined as above and $y_i$ is the $i$th entry of $y$. The the update rule in SGD (w.r.t. example $(x,y)$) is $\\Theta = \\Theta - \\alpha x (a - y)$. Remember $x$ is $(d+1) \\times 1$, and $(a-y)$ is $1 \\times (k-1)$, and so dimension of $\\Theta$ = dimension of $x(a-y)$ is $(d+1) \\times (k-1)$. "
   ]
  },
  {
   "cell_type": "code",
   "execution_count": 28,
   "metadata": {
    "id": "UCNeBh357iDn"
   },
   "outputs": [],
   "source": [
    "#grade\n",
    "\n",
    "def softmax(X, y_hot, lr, num_epochs):\n",
    "    \n",
    "    # X --> Input\n",
    "    # y_hot --> one-hot encoding of labels\n",
    "    # lr --> learning rate\n",
    "    # num_epochs --> Number of iterations\n",
    "    \n",
    "        \n",
    "    # n -> number of training examples\n",
    "    # d -> number of features \n",
    "    n, d = X.shape\n",
    "    k = y_hot.shape[1]+1\n",
    "    X = np.concatenate((np.ones((n, 1)), X), 1)\n",
    "    ind = list(range(n))\n",
    "    # Initializing weights\n",
    "    theta = np.zeros((d+1, k-1))\n",
    "    \n",
    "    # shuffle the indices of the training set before SGD\n",
    "    ind = list(range(n))\n",
    "    np.random.seed(1234)\n",
    "    np.random.shuffle(ind)\n",
    "    \n",
    "    # Training loop\n",
    "    for epoch in range(num_epochs):\n",
    "\n",
    "        # Create matrix A\n",
    "        # subtracting max as explained above to ensure numerical stability\n",
    "\n",
    "        A = X@theta\n",
    "        # using a for loop to make it understandable. can be rewritten using broadcast for optimization\n",
    "        for i in range(len(A)): \n",
    "            A[i] = np.exp(A[i] - np.max(A[i]))\n",
    "            A[i] /= (1+np.sum(A[i]))\n",
    "\n",
    "        #SGD\n",
    "        for j in ind:\n",
    "            x_j, y_j, a_j = X[j].reshape((-1, 1)), y_hot[j].reshape((1, -1)), A[j].reshape((1, -1))\n",
    "            \n",
    "            \n",
    "            ### WRITE YOUR CODE HERE\n",
    "            \n",
    "            theta = theta - lr*x_j@(a_j - y_j)\n",
    "            ### END STUDENT CODE\n",
    "            \n",
    "    return theta"
   ]
  },
  {
   "cell_type": "code",
   "execution_count": 29,
   "metadata": {
    "id": "5Ti3olp8tDdu"
   },
   "outputs": [
    {
     "name": "stdout",
     "output_type": "stream",
     "text": [
      "0.8\n",
      "0.7816853538642046\n",
      "0.7690484850637387\n",
      "0.7597796209686458\n",
      "0.7525843877562854\n",
      "0.7466989483938223\n",
      "0.7416678010338078\n",
      "0.7372153739512748\n",
      "0.7331715967830439\n",
      "0.7294293568811736\n",
      "0.7259195536684488\n",
      "0.7225963585644823\n",
      "0.7194246578012111\n",
      "0.7163815572564196\n",
      "0.7134522712478817\n",
      "0.7106254829529611\n",
      "0.7078922590359589\n",
      "0.7052453494722205\n",
      "0.7026787258758249\n",
      "0.7001872700430916\n",
      "0.6977665588676498\n",
      "0.6954127123099662\n",
      "0.6931222834783508\n",
      "0.6908921774312518\n",
      "0.6887195899835166\n",
      "0.6866019607331968\n",
      "0.6845369363968374\n",
      "0.6825223417550795\n",
      "0.6805561563117776\n",
      "0.6786364953085499\n",
      "0.6767615941054866\n",
      "0.6749297951958618\n",
      "0.6731377095262445\n",
      "0.6713822559893087\n",
      "0.6696628787670523\n",
      "0.6679788474920804\n",
      "0.6663293303692893\n",
      "0.6647134415294862\n",
      "0.6631302716750285\n",
      "0.66157890783918\n",
      "0.6600584460206881\n",
      "0.6585679991373887\n",
      "0.6571067018951995\n",
      "0.655673713620828\n",
      "0.6542682197501221\n",
      "0.6528894324309326\n",
      "0.6515365905461168\n",
      "0.6502089593610045\n",
      "0.648905829932322\n",
      "0.6476265183706102\n"
     ]
    }
   ],
   "source": [
    "# SAMPLE TEST\n",
    "\n",
    "np.random.seed(0)\n",
    "X = np.random.randint(255, size=(9, 4))/255\n",
    "k = 5\n",
    "Y = one_hot([0, 3, 1, 2, 1, 4, 4, 3, 0], k)\n",
    "\n",
    "assert np.array_equal(softmax(X, Y, lr=0.1, num_epochs=50).round(3), \n",
    "                      np.array([[-0.063,  0.829,  0.84 ,  1.491],\n",
    "                                [ 1.069, -1.019, -0.885, -0.319],\n",
    "                                [ 0.324,  2.119, -0.137,  1.917],\n",
    "                                [ 2.15 , -1.514, -0.181,  0.123],\n",
    "                                [ 1.328,  2.077,  1.522, -0.177]]))"
   ]
  },
  {
   "cell_type": "markdown",
   "metadata": {
    "id": "qBUQyzN7w1Wd"
   },
   "source": [
    "Now, let's compare the performance of this multi-class softmax classifer with the binary perceptron classifiers we built last week. Recall the functions below, that create binary labels and define our `perceptron` algorithm."
   ]
  },
  {
   "cell_type": "code",
   "execution_count": null,
   "metadata": {
    "id": "XVoW7Wro-1yv"
   },
   "outputs": [],
   "source": [
    "def createLabels(L,k):\n",
    "    # L is (N,) np array that stores the labels for multi-class classification\n",
    "    \n",
    "    Y = np.zeros(L.shape)\n",
    "    for i in range(len(L)):\n",
    "        Y[i] = 1.0 if L[i] == k else -1.0\n",
    "    \n",
    "    return Y"
   ]
  },
  {
   "cell_type": "code",
   "execution_count": null,
   "metadata": {
    "id": "RFym0u7Yei_-"
   },
   "outputs": [],
   "source": [
    "def perceptron(X, Y, num_epochs):\n",
    "    assert X.ndim==2\n",
    "    N = X.shape[0]\n",
    "    d = X.shape[1]\n",
    "    assert Y.size == N\n",
    "    \n",
    "    X_constant = np.concatenate([np.ones((N,1)), X], axis=1) # concatenate a column of 1's\n",
    "    theta = np.zeros(X_constant.shape[1])\n",
    "    for epoch in range(num_epochs):\n",
    "        \n",
    "        for i, x in enumerate(X_constant):\n",
    "            guess = np.dot(x,theta) #take the dot product of the weight and the data\n",
    "            guess = 1. if guess > 0 else -1.\n",
    "            \n",
    "            if guess != Y[i]:\n",
    "                theta = theta + Y[i]*x # update theta\n",
    "\n",
    "    return theta"
   ]
  },
  {
   "cell_type": "markdown",
   "metadata": {
    "id": "LXEWy4vqxKwQ"
   },
   "source": [
    "Now, let's get the perceptron guesses. Remember, we only care about the sign of the dot products. Since we really have 10 perceptron binary classifiers, $i = 1$ for index $i$ in the output array means that the perceptron classifier for digit $i$ guessed \"true\"; the perceptron for digit $i$ thinks that we do indeed have digit $i$."
   ]
  },
  {
   "cell_type": "code",
   "execution_count": null,
   "metadata": {
    "id": "RXe46PPtHyV9"
   },
   "outputs": [],
   "source": [
    "def get_perceptron_thetas(num_epochs):\n",
    "    perceptron_thetas = np.zeros((10, 785))\n",
    "    for n in range(10):\n",
    "        Y = createLabels(trainlabels,n)\n",
    "        theta = perceptron(traindata, Y, num_epochs)\n",
    "        perceptron_thetas[n] = theta\n",
    "    return perceptron_thetas\n",
    "\n",
    "num_epochs = 15\n",
    "perceptron_thetas = get_perceptron_thetas(num_epochs)\n",
    "\n",
    "X_constant = np.concatenate([np.ones((len(traindata),1)), traindata], axis=1)\n",
    "#the guess of each perceptron classifier\n",
    "perceptron_guesses = np.where(X_constant@perceptron_thetas.T > 0, 1., -1.)"
   ]
  },
  {
   "cell_type": "markdown",
   "metadata": {
    "id": "sW5ymWzUxhuX"
   },
   "source": [
    "Run the code below to get the guesses of the softmax classifier. Remember, to get the prediction softmax exponentiates the linear term and divides each term by the row sum so we have probabilities. Each $\\theta$ vector has length $k-1$. Since we are working with probabilities, the total sum must be equal to 1, which uniquely determines the $k$th value. "
   ]
  },
  {
   "cell_type": "code",
   "execution_count": null,
   "metadata": {
    "id": "oHT6j9seTDEj"
   },
   "outputs": [],
   "source": [
    "def predict(X, theta):\n",
    "    \n",
    "    # X --> Input\n",
    "    # theta --> weights\n",
    "    X = np.concatenate((np.ones((len(X), 1)), X), 1)\n",
    "\n",
    "    # Predicting\n",
    "    # the linear term\n",
    "    z = X@theta\n",
    "    for i in range(len(X)):\n",
    "      # subtract the max for numerical stability (otherwise exp overflows)\n",
    "      z[i] = np.exp(z[i] - np.max(z[i]))\n",
    "      # divide each entry by its row sum + 1\n",
    "      z[i] /= (1+np.sum(z[i]))\n",
    "    #the final weight is determined by the values we have calculated; the sum of each row must equal 1\n",
    "    guesses = np.append(z, (1-np.sum(z, axis = 1)).reshape(-1, 1), axis = 1)\n",
    "    \n",
    "    # Returning the class with highest probability.\n",
    "    return np.argmax(guesses, axis=1)\n",
    "\n",
    "\n",
    "# input data\n",
    "X = traindata/255\n",
    "k = 10\n",
    "Y = one_hot(trainlabels, k)\n",
    "\n",
    "#softmax guesses\n",
    "softmax_theta = softmax(X, Y, lr=0.1, num_epochs=100)\n",
    "softmax_guesses = predict(X, softmax_theta)\n"
   ]
  },
  {
   "cell_type": "markdown",
   "metadata": {
    "id": "V68brA1tyNFc"
   },
   "source": [
    "Let's visualize some data points, that the perceptron classifiers misbehaves on. What do you observe about the outputs for each approach? What causes this difference? Do you have any intuition on the performance of each model? In what case can we guaranteed the performance of the 10 perceptron binary classifiers to be the same as the softmax 10-class classifier?"
   ]
  },
  {
   "cell_type": "code",
   "execution_count": null,
   "metadata": {
    "colab": {
     "base_uri": "https://localhost:8080/",
     "height": 265
    },
    "id": "sTSOJOIgYunE",
    "outputId": "5684af52-b0f0-4dde-f2e0-cad57b5eacbf"
   },
   "outputs": [],
   "source": [
    "plt.imshow(traindata[33].reshape((28, 28)), cmap=plt.get_cmap('gray'))\n",
    "plt.show()"
   ]
  },
  {
   "cell_type": "code",
   "execution_count": null,
   "metadata": {
    "colab": {
     "base_uri": "https://localhost:8080/"
    },
    "id": "i1J2CuM4YunN",
    "outputId": "bf58bb73-9731-40a1-e9af-1f07f7e44e32"
   },
   "outputs": [],
   "source": [
    "print(\"the perceptron classifers guessed: {0}\".format(np.where(perceptron_guesses[33] == 1.)[0]))\n",
    "print(\"the softmax classifer guessed: {0}\".format(softmax_guesses[33]))\n",
    "print(\"the true label of this digit is: {0}\".format(trainlabels[33]))"
   ]
  },
  {
   "cell_type": "markdown",
   "metadata": {
    "id": "dX2FXVJQKFKQ"
   },
   "source": [
    "In the following two examples, our softmax classifier mispredicts as well. Why might the model have been confused here? What does the perceptron classifiers results tell you? What possible benefits are there for having multiple binary perceptron classifers, one for each digit?"
   ]
  },
  {
   "cell_type": "code",
   "execution_count": null,
   "metadata": {
    "colab": {
     "base_uri": "https://localhost:8080/",
     "height": 265
    },
    "id": "qsS6zN7PKmxp",
    "outputId": "f571e577-bc02-466c-de3f-3b3fd73f0a98"
   },
   "outputs": [],
   "source": [
    "plt.imshow(traindata[2].reshape((28, 28)), cmap=plt.get_cmap('gray'))\n",
    "plt.show()"
   ]
  },
  {
   "cell_type": "code",
   "execution_count": null,
   "metadata": {
    "colab": {
     "base_uri": "https://localhost:8080/"
    },
    "id": "OQeQr2OmKnvP",
    "outputId": "f64944cd-28e4-4ede-e76c-fda419f20b15"
   },
   "outputs": [],
   "source": [
    "print(\"the perceptron classifers guessed: {0}\".format(np.where(perceptron_guesses[2] == 1.)[0]))\n",
    "print(\"the softmax classifer guessed: {0}\".format(softmax_guesses[2]))\n",
    "print(\"the true label of this digit is: {0}\".format(trainlabels[2]))"
   ]
  },
  {
   "cell_type": "code",
   "execution_count": null,
   "metadata": {
    "colab": {
     "base_uri": "https://localhost:8080/",
     "height": 265
    },
    "id": "xYXLOFKN5b9i",
    "outputId": "23aadc58-30cc-4bb1-b29f-deff7ce5cfd5"
   },
   "outputs": [],
   "source": [
    "plt.imshow(traindata[1].reshape((28, 28)), cmap=plt.get_cmap('gray'))\n",
    "plt.show()"
   ]
  },
  {
   "cell_type": "code",
   "execution_count": null,
   "metadata": {
    "colab": {
     "base_uri": "https://localhost:8080/"
    },
    "id": "6fEIQ3AUkJty",
    "outputId": "b65fd961-6da0-4ea1-84da-c4be6a6eec6c",
    "scrolled": true
   },
   "outputs": [],
   "source": [
    "print(\"the perceptron classifers guessed: {0}\".format(np.where(perceptron_guesses[1] == 1.)[0]))\n",
    "print(\"the softmax classifer guessed: {0}\".format(softmax_guesses[1]))\n",
    "print(\"the true label of this digit is: {0}\".format(trainlabels[1]))"
   ]
  }
 ],
 "metadata": {
  "colab": {
   "collapsed_sections": [],
   "provenance": []
  },
  "kernelspec": {
   "display_name": "base",
   "language": "python",
   "name": "python3"
  },
  "language_info": {
   "codemirror_mode": {
    "name": "ipython",
    "version": 3
   },
   "file_extension": ".py",
   "mimetype": "text/x-python",
   "name": "python",
   "nbconvert_exporter": "python",
   "pygments_lexer": "ipython3",
   "version": "3.9.15"
  },
  "vscode": {
   "interpreter": {
    "hash": "d996e21d0ad5951d98aa091e32bb8f16089d875a183688e5650e6f98c89c2d11"
   }
  }
 },
 "nbformat": 4,
 "nbformat_minor": 4
}
